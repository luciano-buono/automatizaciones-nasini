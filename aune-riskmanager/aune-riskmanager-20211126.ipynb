{
 "cells": [
  {
   "cell_type": "code",
   "execution_count": 26,
   "id": "774c91e7-55fc-479d-8fb8-70a2cb344d26",
   "metadata": {},
   "outputs": [],
   "source": [
    "#DESCRIPCION\n",
    "# Trabajo en pandas para facilitar \n",
    "# la suma de primas diferencias de riskmanager y datos de aune\n",
    "\n",
    "##IMPORTS\n",
    "from argparse import ArgumentParser\n",
    "import csv\n",
    "import os, glob, sys\n",
    "import pandas as pd\n",
    "from pathlib import Path"
   ]
  },
  {
   "cell_type": "code",
   "execution_count": 27,
   "id": "b0bae4e4-7e02-455e-87a4-e173022057be",
   "metadata": {},
   "outputs": [],
   "source": [
    "def load_files():\n",
    "    EXTENSIONS_ALLOWED = ['*.xls','*.xlsx','*.csv']\n",
    "    files_grabbed = []\n",
    "    for files in EXTENSIONS_ALLOWED:\n",
    "        files_grabbed.extend(glob.glob(files))\n",
    "    return files_grabbed\n",
    "\n",
    "def select_file(files, keyword):\n",
    "    for f in files:\n",
    "        if keyword in f:\n",
    "            return f\n",
    "    return None\n",
    "def process_aune(file, output_file, keyword):\n",
    "    if not file:\n",
    "        return \"File not found\"\n",
    "    with open(f\"{file}\", 'r', newline='') as f, \\\n",
    "    open(f\"{output_file}.csv\", 'w', newline='') as output_file:\n",
    "        reader = csv.reader(f, delimiter=';')\n",
    "        writer = csv.writer(output_file, delimiter= ';')\n",
    "        flag = False\n",
    "        print(file,reader)\n",
    "        for row in reader:\n",
    "            if keyword in row:\n",
    "                flag = True\n",
    "            if flag:\n",
    "                writer.writerow(row)\n",
    "                if not row:\n",
    "                    break\n",
    "\n",
    "\n"
   ]
  },
  {
   "cell_type": "code",
   "execution_count": 35,
   "id": "41592fe5-0f7c-42c6-8e63-31c6e1909d31",
   "metadata": {},
   "outputs": [],
   "source": [
    "def diferencias(file,file2):\n",
    "    # Tabla Diferencias. Suma por Comitente y moneda de liquidación \"Dif. DÃ­a\" (fila N)\n",
    "    #Leemos la tabla sacada arriba con pandas\n",
    "    if (not file) or (not file2):\n",
    "        return \"File not found\"\n",
    "    df = pd.read_csv(file,skiprows=1,quoting=csv.QUOTE_NONE,delimiter=';',decimal=\",\")\n",
    "    df2 = pd.read_excel(file2)\n",
    "    mergedStuff = pd.merge(df, df2, on=['Producto'], how='inner')\n",
    "    #Sumamos por comitenente y moneda\n",
    "    df_diferencias = mergedStuff.groupby(['Comitente','Moneda de liquidación '],as_index=False)[['Dif. Día']].sum()\n",
    "    return df_diferencias\n",
    "\n",
    "def primas(file,file2):\n",
    "    # Tabla Primas. Suma por Comitente y moneda de liquidación \"Dif. DÃ­a\" (fila N)\n",
    "    #Leemos la tabla sacada arriba con pandas\n",
    "    if (not file) or (not file2):\n",
    "        return \"File not found\"\n",
    "    df = pd.read_csv(file,skiprows=1,quoting=csv.QUOTE_NONE,delimiter=';',decimal=\",\")\n",
    "    df2 = pd.read_excel(file2)\n",
    "    mergedStuff = pd.merge(df, df2, on=['Producto'], how='inner')\n",
    "    #Sumamos por comitenente y moneda\n",
    "    df_primas = mergedStuff.groupby(['Comitente','Moneda de liquidación '],as_index=False)[['Primas Día']].sum()\n",
    "    return df_primas"
   ]
  },
  {
   "cell_type": "code",
   "execution_count": 29,
   "id": "b6894bfc-0a92-45ed-af7d-9afc7cd09bf7",
   "metadata": {},
   "outputs": [],
   "source": [
    "def gvRegistryAccount(file):\n",
    "    #Leer gvRegistryAccount.xls. Archivo de AP5\n",
    "    #Skipeamos 1 linea porque aune siempre tiene la 1linea vacia\n",
    "    if (not file):\n",
    "        return \"File not found\"\n",
    "    df = pd.read_excel(file)\n",
    "    df = df[df[\"Estado\"]==\"Activo\"]\n",
    "    df = df[['Cuenta', 'Comitente CVSA']]\n",
    "    return df"
   ]
  },
  {
   "cell_type": "code",
   "execution_count": 30,
   "id": "1ac1e676-e029-4c06-bac6-05b64df379fa",
   "metadata": {},
   "outputs": [],
   "source": [
    "def aune(file):\n",
    "    if (not file):\n",
    "        return \"File not found\"\n",
    "    df_aune = pd.read_excel(file, skiprows=1)\n",
    "    #Drop la ultima fila, ya que es el total y no sirve\n",
    "    df_aune.drop(df_aune.tail(1).index,inplace=True)\n",
    "    #Extraemos el nro entre corchetes de la co Cuenta para compararla desp\n",
    "    df_aune['Comitente CVSA'] =  df_aune.Cuenta.str.extract('.*\\[(.*)\\].*')\n",
    "    #Pasamos CVSA a float para poder hacer el merge\n",
    "    df_aune[\"Comitente CVSA\"] = pd.to_numeric(df_aune[\"Comitente CVSA\"])\n",
    "    #Valor de USD Garantia ROFEX. Ver como obtenerlo automaticamente no hardcodeado\n",
    "    USD_Rofex = float(input(\"Ingrese valor USD Garantia ROFEX\"))\n",
    "    #Necesito el opuesto de los valores, multiplico por -1\n",
    "    INVERTIR_SIGNO = -1\n",
    "    df_aune['Aune Total Pesificado'] = df_aune['Total']*USD_Rofex*INVERTIR_SIGNO\n",
    "    # Solo dejamos las dos columnas que necesitamos\n",
    "    df_aune_slim = df_aune[['Comitente CVSA', 'Aune Total Pesificado']]\n",
    "    return df_aune_slim"
   ]
  },
  {
   "cell_type": "code",
   "execution_count": 31,
   "id": "3e492ff5-2896-4736-81b8-1f38aed61bad",
   "metadata": {},
   "outputs": [],
   "source": [
    "def mergeDFs(df_diferencias,df_primas,gvRegistryAccount, df_aune):\n",
    "    #Merge Diferencias y Primas por Comitente y Moneda.\n",
    "    mergedStuff = pd.merge(df_diferencias, df_primas, on=['Comitente','Moneda de liquidación '], how='inner')\n",
    "    #Cambiamos el nombre\n",
    "    mergedStuff = mergedStuff.rename(columns={\"Comitente\": \"Cuenta\"})\n",
    "    \n",
    "    #Correlacionamos los comitenes de AP5 a su numero en AUNE\n",
    "    mergedStuff3 = pd.merge(mergedStuff,gvRegistryAccount, on=['Cuenta'], how='inner')\n",
    "    \n",
    "    #Separamos la tabla entre ARS y USDL\n",
    "    mergedStuff3_ars = mergedStuff3[mergedStuff3['Moneda de liquidación '] == 'ARS']\n",
    "    mergedStuff3_usdl = mergedStuff3[mergedStuff3['Moneda de liquidación '] == 'USDL']\n",
    "    \n",
    "    #Merge tabla de USDL coon aune-slim\n",
    "    mergedStuff4 = pd.merge(mergedStuff3_usdl,df_aune, on=['Comitente CVSA'], how='outer')\n",
    "    #Llenamos los NaN con 0\n",
    "    mergedStuff4 = mergedStuff4.fillna(0)\n",
    "    \n",
    "    # Hacemos el total\n",
    "    mergedStuff4['Super Total'] = mergedStuff4['Dif. Día']+mergedStuff4['Primas Día']+mergedStuff4['Aune Total Pesificado']\n",
    "    mergedStuff4\n",
    "    \n",
    "    #Hacemos 0 los positivos del Super Total\n",
    "    for i in mergedStuff4.iloc[:,mergedStuff4.columns.get_loc(\"Super Total\"):mergedStuff4.columns.get_loc(\"Super Total\")+4]<0:\n",
    "        for index, j in enumerate(mergedStuff4[i]):\n",
    "            if j>0:\n",
    "                mergedStuff4.at[index, i] = 0\n",
    "    mergedStuff4\n",
    "    \n",
    "    #Agarramos los ARS de Diferencias y Primas\n",
    "    mergedStuff3_ars = mergedStuff3_ars.rename(columns={\"Dif. Día\": \"Dif. Día ars\", \"Primas Día\": \"Primas ars\"})\n",
    "    mergedStuff3_ars\n",
    "    mergedStuff3_ars = mergedStuff3_ars[['Comitente CVSA', 'Dif. Día ars', 'Primas ars']]\n",
    "    mergedStuff3_ars\n",
    "    \n",
    "    #Agregamos las columnas de Dif. Día ars y Primas ars\n",
    "    mergedStuff5 = pd.merge(mergedStuff3_ars, mergedStuff4, on=['Comitente CVSA'], how='outer')\n",
    "    mergedStuff5 = mergedStuff5.fillna(0)\n",
    "    mergedStuff5\n",
    "    \n",
    "    #Sumamos a Super Total los Dif. Día ars\tPrimas ars\n",
    "    mergedStuff5['Super Total'] = mergedStuff5['Dif. Día ars'] + mergedStuff5['Primas ars'] + mergedStuff5['Super Total']\n",
    "    mergedStuff5\n",
    "    \n",
    "    #Saco columnas innecesarias\n",
    "    df_final = mergedStuff5[['Comitente CVSA','Super Total']]\n",
    "    df_final= df_final[df_final !=0]\n",
    "    df_final = df_final.dropna()\n",
    "    return df_final"
   ]
  },
  {
   "cell_type": "code",
   "execution_count": 32,
   "id": "c4420b7d-edf3-400b-81b5-f46b68b6b6d2",
   "metadata": {},
   "outputs": [],
   "source": [
    "def remove_GELD(df_final):\n",
    "    #Eliminar los comitentes de GELD de df_final\n",
    "    # AUNE\tCodigo Cuenta\n",
    "    COMITENTES_GELD= [10187,10188,10195,10196,10122,10305,10121,10123]\n",
    "    df_final_bool =df_final.isin({'Comitente CVSA': COMITENTES_GELD})\n",
    "    REMOVE_GELD = df_final_bool.index[df_final_bool[\"Comitente CVSA\"]].tolist()\n",
    "    df_final = df_final.drop(REMOVE_GELD)\n",
    "    df_final.to_csv('resumen_de_cuenta.csv', sep=';',header=True, index=False, decimal=',')\n",
    "    print(\"Total:\",df_final['Super Total'].sum())\n",
    "    return df_final"
   ]
  },
  {
   "cell_type": "code",
   "execution_count": 36,
   "id": "71157797-faea-48aa-9b2f-a0f0d9cda1c4",
   "metadata": {},
   "outputs": [
    {
     "name": "stdout",
     "output_type": "stream",
     "text": [
      "['gvRegistryAccount.xls', 'export.xlsx', 'Productos por moneda.xlsx', 'Cartera20211207.csv', 'diferencias.csv', 'primas.csv', 'resumen_de_cuenta.csv']\n",
      "Cartera20211207.csv <_csv.reader object at 0x7f1f146f5ac0>\n",
      "Cartera20211207.csv <_csv.reader object at 0x7f1f146f5ac0>\n"
     ]
    },
    {
     "ename": "TypeError",
     "evalue": "'DataFrame' object is not callable",
     "output_type": "error",
     "traceback": [
      "\u001b[0;31m---------------------------------------------------------------------------\u001b[0m",
      "\u001b[0;31mTypeError\u001b[0m                                 Traceback (most recent call last)",
      "\u001b[0;32m<ipython-input-36-4d6650d2a74b>\u001b[0m in \u001b[0;36m<module>\u001b[0;34m\u001b[0m\n\u001b[1;32m      5\u001b[0m \u001b[0mdf_diferencias\u001b[0m \u001b[0;34m=\u001b[0m \u001b[0mdiferencias\u001b[0m\u001b[0;34m(\u001b[0m\u001b[0mselect_file\u001b[0m\u001b[0;34m(\u001b[0m\u001b[0mfiles\u001b[0m\u001b[0;34m,\u001b[0m \u001b[0;34m'diferencias'\u001b[0m\u001b[0;34m)\u001b[0m\u001b[0;34m,\u001b[0m\u001b[0mselect_file\u001b[0m\u001b[0;34m(\u001b[0m\u001b[0mfiles\u001b[0m\u001b[0;34m,\u001b[0m \u001b[0;34m'Productos por moneda'\u001b[0m\u001b[0;34m)\u001b[0m\u001b[0;34m)\u001b[0m\u001b[0;34m\u001b[0m\u001b[0;34m\u001b[0m\u001b[0m\n\u001b[1;32m      6\u001b[0m \u001b[0mdf_primas\u001b[0m \u001b[0;34m=\u001b[0m \u001b[0mprimas\u001b[0m\u001b[0;34m(\u001b[0m\u001b[0mselect_file\u001b[0m\u001b[0;34m(\u001b[0m\u001b[0mfiles\u001b[0m\u001b[0;34m,\u001b[0m \u001b[0;34m'primas'\u001b[0m\u001b[0;34m)\u001b[0m\u001b[0;34m,\u001b[0m\u001b[0mselect_file\u001b[0m\u001b[0;34m(\u001b[0m\u001b[0mfiles\u001b[0m\u001b[0;34m,\u001b[0m \u001b[0;34m'Productos por moneda'\u001b[0m\u001b[0;34m)\u001b[0m\u001b[0;34m)\u001b[0m\u001b[0;34m\u001b[0m\u001b[0;34m\u001b[0m\u001b[0m\n\u001b[0;32m----> 7\u001b[0;31m \u001b[0mgvRegistryAccount\u001b[0m \u001b[0;34m=\u001b[0m \u001b[0mgvRegistryAccount\u001b[0m\u001b[0;34m(\u001b[0m\u001b[0mselect_file\u001b[0m\u001b[0;34m(\u001b[0m\u001b[0mfiles\u001b[0m\u001b[0;34m,\u001b[0m \u001b[0;34m'gvRegistry'\u001b[0m\u001b[0;34m)\u001b[0m\u001b[0;34m)\u001b[0m\u001b[0;34m\u001b[0m\u001b[0;34m\u001b[0m\u001b[0m\n\u001b[0m\u001b[1;32m      8\u001b[0m \u001b[0mdf_aune\u001b[0m \u001b[0;34m=\u001b[0m \u001b[0maune\u001b[0m\u001b[0;34m(\u001b[0m\u001b[0mselect_file\u001b[0m\u001b[0;34m(\u001b[0m\u001b[0mfiles\u001b[0m\u001b[0;34m,\u001b[0m \u001b[0;34m'export'\u001b[0m\u001b[0;34m)\u001b[0m\u001b[0;34m)\u001b[0m\u001b[0;34m\u001b[0m\u001b[0;34m\u001b[0m\u001b[0m\n\u001b[1;32m      9\u001b[0m \u001b[0mdf_final\u001b[0m \u001b[0;34m=\u001b[0m \u001b[0mmergeDFs\u001b[0m\u001b[0;34m(\u001b[0m\u001b[0mdf_diferencias\u001b[0m\u001b[0;34m,\u001b[0m\u001b[0mdf_primas\u001b[0m\u001b[0;34m,\u001b[0m\u001b[0mgvRegistryAccount\u001b[0m\u001b[0;34m,\u001b[0m \u001b[0mdf_aune\u001b[0m\u001b[0;34m)\u001b[0m\u001b[0;34m\u001b[0m\u001b[0;34m\u001b[0m\u001b[0m\n",
      "\u001b[0;31mTypeError\u001b[0m: 'DataFrame' object is not callable"
     ]
    }
   ],
   "source": [
    "files = load_files()\n",
    "print(files)\n",
    "process_aune(select_file(files, 'Cartera'),\"diferencias\",\"Listado de Productos con Interes Abierto, discriminado por comitente\")   \n",
    "process_aune(select_file(files, 'Cartera'),\"primas\",\"Listado de Productos con Interes Abierto, discriminado por comitente\")    \n",
    "df_diferencias = diferencias(select_file(files, 'diferencias'),select_file(files, 'Productos por moneda'))\n",
    "df_primas = primas(select_file(files, 'primas'),select_file(files, 'Productos por moneda'))\n",
    "gvRegistryAccount = gvRegistryAccount(select_file(files, 'gvRegistry'))\n",
    "df_aune = aune(select_file(files, 'export'))\n",
    "df_final = mergeDFs(df_diferenbcias,df_primas,gvRegistryAccount, df_aune)\n",
    "remove_GELD(df_final)"
   ]
  }
 ],
 "metadata": {
  "kernelspec": {
   "display_name": "Python 3",
   "language": "python",
   "name": "python3"
  },
  "language_info": {
   "codemirror_mode": {
    "name": "ipython",
    "version": 3
   },
   "file_extension": ".py",
   "mimetype": "text/x-python",
   "name": "python",
   "nbconvert_exporter": "python",
   "pygments_lexer": "ipython3",
   "version": "3.8.10"
  }
 },
 "nbformat": 4,
 "nbformat_minor": 5
}
